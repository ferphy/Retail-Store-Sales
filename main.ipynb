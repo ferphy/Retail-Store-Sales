{
 "cells": [
  {
   "cell_type": "markdown",
   "id": "46c69aad",
   "metadata": {},
   "source": [
    "# Retail Store Sales Analysis\n",
    "This notebook provides an analysis of retail store and a system to clasify differents types of clients based on their purchasing behavior."
   ]
  },
  {
   "cell_type": "markdown",
   "id": "1fa1d27c",
   "metadata": {},
   "source": [
    "## Importing Libraries"
   ]
  },
  {
   "cell_type": "code",
   "execution_count": 4,
   "id": "31cd60ab",
   "metadata": {},
   "outputs": [],
   "source": [
    "import pandas as pd\n",
    "import numpy as np"
   ]
  },
  {
   "cell_type": "markdown",
   "id": "95a73ffc",
   "metadata": {},
   "source": [
    "## Load the dataset"
   ]
  },
  {
   "cell_type": "code",
   "execution_count": 5,
   "id": "dd8e984c",
   "metadata": {},
   "outputs": [],
   "source": [
    "df = pd.read_csv('retail_store_sales.csv')"
   ]
  },
  {
   "cell_type": "markdown",
   "id": "969d01ee",
   "metadata": {},
   "source": [
    "## Explore the data"
   ]
  },
  {
   "cell_type": "code",
   "execution_count": 7,
   "id": "e865d809",
   "metadata": {},
   "outputs": [
    {
     "data": {
      "text/html": [
       "<div>\n",
       "<style scoped>\n",
       "    .dataframe tbody tr th:only-of-type {\n",
       "        vertical-align: middle;\n",
       "    }\n",
       "\n",
       "    .dataframe tbody tr th {\n",
       "        vertical-align: top;\n",
       "    }\n",
       "\n",
       "    .dataframe thead th {\n",
       "        text-align: right;\n",
       "    }\n",
       "</style>\n",
       "<table border=\"1\" class=\"dataframe\">\n",
       "  <thead>\n",
       "    <tr style=\"text-align: right;\">\n",
       "      <th></th>\n",
       "      <th>Transaction ID</th>\n",
       "      <th>Customer ID</th>\n",
       "      <th>Category</th>\n",
       "      <th>Item</th>\n",
       "      <th>Price Per Unit</th>\n",
       "      <th>Quantity</th>\n",
       "      <th>Total Spent</th>\n",
       "      <th>Payment Method</th>\n",
       "      <th>Location</th>\n",
       "      <th>Transaction Date</th>\n",
       "      <th>Discount Applied</th>\n",
       "    </tr>\n",
       "  </thead>\n",
       "  <tbody>\n",
       "    <tr>\n",
       "      <th>0</th>\n",
       "      <td>TXN_6867343</td>\n",
       "      <td>CUST_09</td>\n",
       "      <td>Patisserie</td>\n",
       "      <td>Item_10_PAT</td>\n",
       "      <td>18.5</td>\n",
       "      <td>10.0</td>\n",
       "      <td>185.0</td>\n",
       "      <td>Digital Wallet</td>\n",
       "      <td>Online</td>\n",
       "      <td>2024-04-08</td>\n",
       "      <td>True</td>\n",
       "    </tr>\n",
       "    <tr>\n",
       "      <th>1</th>\n",
       "      <td>TXN_3731986</td>\n",
       "      <td>CUST_22</td>\n",
       "      <td>Milk Products</td>\n",
       "      <td>Item_17_MILK</td>\n",
       "      <td>29.0</td>\n",
       "      <td>9.0</td>\n",
       "      <td>261.0</td>\n",
       "      <td>Digital Wallet</td>\n",
       "      <td>Online</td>\n",
       "      <td>2023-07-23</td>\n",
       "      <td>True</td>\n",
       "    </tr>\n",
       "    <tr>\n",
       "      <th>2</th>\n",
       "      <td>TXN_9303719</td>\n",
       "      <td>CUST_02</td>\n",
       "      <td>Butchers</td>\n",
       "      <td>Item_12_BUT</td>\n",
       "      <td>21.5</td>\n",
       "      <td>2.0</td>\n",
       "      <td>43.0</td>\n",
       "      <td>Credit Card</td>\n",
       "      <td>Online</td>\n",
       "      <td>2022-10-05</td>\n",
       "      <td>False</td>\n",
       "    </tr>\n",
       "    <tr>\n",
       "      <th>3</th>\n",
       "      <td>TXN_9458126</td>\n",
       "      <td>CUST_06</td>\n",
       "      <td>Beverages</td>\n",
       "      <td>Item_16_BEV</td>\n",
       "      <td>27.5</td>\n",
       "      <td>9.0</td>\n",
       "      <td>247.5</td>\n",
       "      <td>Credit Card</td>\n",
       "      <td>Online</td>\n",
       "      <td>2022-05-07</td>\n",
       "      <td>NaN</td>\n",
       "    </tr>\n",
       "    <tr>\n",
       "      <th>4</th>\n",
       "      <td>TXN_4575373</td>\n",
       "      <td>CUST_05</td>\n",
       "      <td>Food</td>\n",
       "      <td>Item_6_FOOD</td>\n",
       "      <td>12.5</td>\n",
       "      <td>7.0</td>\n",
       "      <td>87.5</td>\n",
       "      <td>Digital Wallet</td>\n",
       "      <td>Online</td>\n",
       "      <td>2022-10-02</td>\n",
       "      <td>False</td>\n",
       "    </tr>\n",
       "  </tbody>\n",
       "</table>\n",
       "</div>"
      ],
      "text/plain": [
       "  Transaction ID Customer ID       Category          Item  Price Per Unit  \\\n",
       "0    TXN_6867343     CUST_09     Patisserie   Item_10_PAT            18.5   \n",
       "1    TXN_3731986     CUST_22  Milk Products  Item_17_MILK            29.0   \n",
       "2    TXN_9303719     CUST_02       Butchers   Item_12_BUT            21.5   \n",
       "3    TXN_9458126     CUST_06      Beverages   Item_16_BEV            27.5   \n",
       "4    TXN_4575373     CUST_05           Food   Item_6_FOOD            12.5   \n",
       "\n",
       "   Quantity  Total Spent  Payment Method Location Transaction Date  \\\n",
       "0      10.0        185.0  Digital Wallet   Online       2024-04-08   \n",
       "1       9.0        261.0  Digital Wallet   Online       2023-07-23   \n",
       "2       2.0         43.0     Credit Card   Online       2022-10-05   \n",
       "3       9.0        247.5     Credit Card   Online       2022-05-07   \n",
       "4       7.0         87.5  Digital Wallet   Online       2022-10-02   \n",
       "\n",
       "  Discount Applied  \n",
       "0             True  \n",
       "1             True  \n",
       "2            False  \n",
       "3              NaN  \n",
       "4            False  "
      ]
     },
     "execution_count": 7,
     "metadata": {},
     "output_type": "execute_result"
    }
   ],
   "source": [
    "df.head()"
   ]
  },
  {
   "cell_type": "code",
   "execution_count": 8,
   "id": "724b391a",
   "metadata": {},
   "outputs": [
    {
     "name": "stdout",
     "output_type": "stream",
     "text": [
      "<class 'pandas.core.frame.DataFrame'>\n",
      "RangeIndex: 12575 entries, 0 to 12574\n",
      "Data columns (total 11 columns):\n",
      " #   Column            Non-Null Count  Dtype  \n",
      "---  ------            --------------  -----  \n",
      " 0   Transaction ID    12575 non-null  object \n",
      " 1   Customer ID       12575 non-null  object \n",
      " 2   Category          12575 non-null  object \n",
      " 3   Item              11362 non-null  object \n",
      " 4   Price Per Unit    11966 non-null  float64\n",
      " 5   Quantity          11971 non-null  float64\n",
      " 6   Total Spent       11971 non-null  float64\n",
      " 7   Payment Method    12575 non-null  object \n",
      " 8   Location          12575 non-null  object \n",
      " 9   Transaction Date  12575 non-null  object \n",
      " 10  Discount Applied  8376 non-null   object \n",
      "dtypes: float64(3), object(8)\n",
      "memory usage: 1.1+ MB\n"
     ]
    }
   ],
   "source": [
    "df.info()"
   ]
  },
  {
   "cell_type": "markdown",
   "id": "ccea5840",
   "metadata": {},
   "source": [
    "As we can see, the dataset contains information about the sales of a retail store, including the date of purchase, the type of client, the amount spent, and the product category. Exploring the cuantity of non-null values in each column, we can see that the dataset contains missing values in the following columns: `Item`, `Price Per Unit`, `Quantity`, `Total Spent` and `Discount Applied` ."
   ]
  },
  {
   "cell_type": "markdown",
   "id": "6dba07f2",
   "metadata": {},
   "source": [
    "### Transaction ID"
   ]
  },
  {
   "cell_type": "code",
   "execution_count": 9,
   "id": "d6d688cb",
   "metadata": {},
   "outputs": [
    {
     "data": {
      "text/plain": [
       "0     TXN_6867343\n",
       "1     TXN_3731986\n",
       "2     TXN_9303719\n",
       "3     TXN_9458126\n",
       "4     TXN_4575373\n",
       "5     TXN_7482416\n",
       "6     TXN_3652209\n",
       "7     TXN_1372952\n",
       "8     TXN_9728486\n",
       "9     TXN_2722661\n",
       "10    TXN_8776416\n",
       "11    TXN_5422631\n",
       "12    TXN_5874772\n",
       "13    TXN_4413070\n",
       "14    TXN_2490363\n",
       "15    TXN_1809665\n",
       "16    TXN_7563311\n",
       "17    TXN_9634894\n",
       "18    TXN_4396807\n",
       "19    TXN_4206593\n",
       "20    TXN_9939063\n",
       "21    TXN_8685338\n",
       "22    TXN_6547964\n",
       "23    TXN_3314099\n",
       "24    TXN_9980736\n",
       "25    TXN_3481599\n",
       "26    TXN_9057609\n",
       "27    TXN_1599706\n",
       "28    TXN_1598860\n",
       "29    TXN_7138501\n",
       "30    TXN_5444504\n",
       "31    TXN_4353295\n",
       "32    TXN_1543244\n",
       "33    TXN_1494700\n",
       "34    TXN_1621497\n",
       "35    TXN_6398436\n",
       "36    TXN_9065245\n",
       "37    TXN_6963438\n",
       "38    TXN_8312797\n",
       "39    TXN_5836005\n",
       "40    TXN_4223250\n",
       "41    TXN_1019817\n",
       "42    TXN_1110407\n",
       "43    TXN_6276518\n",
       "44    TXN_4740738\n",
       "45    TXN_9587232\n",
       "46    TXN_6404316\n",
       "47    TXN_9331642\n",
       "48    TXN_9729422\n",
       "49    TXN_8425168\n",
       "Name: Transaction ID, dtype: object"
      ]
     },
     "execution_count": 9,
     "metadata": {},
     "output_type": "execute_result"
    }
   ],
   "source": [
    "# Lets have a look at the first 50 rows of the dataset to see if the Transaction ID have a form of codification\n",
    "df['Transaction ID'].head(50)"
   ]
  },
  {
   "cell_type": "markdown",
   "id": "fcd6a06c",
   "metadata": {},
   "source": [
    "As we can see, It looks like the Transaction ID is a combination of the leters TXN, a _ and a number. We can make a regex to see if this code is followed by the rest of the dataset."
   ]
  },
  {
   "cell_type": "code",
   "execution_count": 14,
   "id": "7d0951c9",
   "metadata": {},
   "outputs": [
    {
     "data": {
      "text/plain": [
       "0"
      ]
     },
     "execution_count": 14,
     "metadata": {},
     "output_type": "execute_result"
    }
   ],
   "source": [
    "#To show which row do not follow the expected format of Transaction ID\n",
    "df[~df['Transaction ID'].astype(str).str.match(r\"^TXN_\\d{7}$\")]['Transaction ID'].nunique()"
   ]
  },
  {
   "cell_type": "markdown",
   "id": "6f970d65",
   "metadata": {},
   "source": [
    "It seems that the Transaction ID is consistent!!"
   ]
  },
  {
   "cell_type": "markdown",
   "id": "27415842",
   "metadata": {},
   "source": [
    "### Customer ID\n",
    "lets do the same fo customer ID"
   ]
  },
  {
   "cell_type": "code",
   "execution_count": 15,
   "id": "ddde9ebb",
   "metadata": {},
   "outputs": [
    {
     "data": {
      "text/plain": [
       "0"
      ]
     },
     "execution_count": 15,
     "metadata": {},
     "output_type": "execute_result"
    }
   ],
   "source": [
    "df[~df['Customer ID'].astype(str).str.match(r\"^CUST_\\d{2}$\")]['Customer ID'].nunique()"
   ]
  },
  {
   "cell_type": "markdown",
   "id": "05394a58",
   "metadata": {},
   "source": [
    "Perfect, now we can see that the Transaction ID and Customer ID columns have a specific format. Now we can see who are the top 10 customers by the number of transactions they made."
   ]
  },
  {
   "cell_type": "code",
   "execution_count": null,
   "id": "09a05402",
   "metadata": {},
   "outputs": [
    {
     "data": {
      "text/plain": [
       "Customer ID\n",
       "CUST_05    544\n",
       "CUST_24    543\n",
       "CUST_13    534\n",
       "CUST_08    533\n",
       "CUST_09    519\n",
       "CUST_15    519\n",
       "CUST_16    515\n",
       "CUST_23    513\n",
       "CUST_20    507\n",
       "CUST_18    507\n",
       "Name: count, dtype: int64"
      ]
     },
     "execution_count": 16,
     "metadata": {},
     "output_type": "execute_result"
    }
   ],
   "source": [
    "#Top 10 customers by number of transactions\n",
    "df['Customer ID'].value_counts().sort_values(ascending=False).head(10)"
   ]
  },
  {
   "cell_type": "markdown",
   "id": "092bc079",
   "metadata": {},
   "source": [
    "### Category"
   ]
  },
  {
   "cell_type": "code",
   "execution_count": 31,
   "id": "6d695764",
   "metadata": {},
   "outputs": [],
   "source": [
    "categories_of_products = df['Category'].value_counts().sort_values(ascending=False).index\n"
   ]
  },
  {
   "cell_type": "code",
   "execution_count": 33,
   "id": "6665a49e",
   "metadata": {},
   "outputs": [
    {
     "name": "stdout",
     "output_type": "stream",
     "text": [
      "Category: Electric household essentials, Number of unique items: (25,)\n",
      "Category: Furniture, Number of unique items: (25,)\n",
      "Category: Food, Number of unique items: (25,)\n",
      "Category: Milk Products, Number of unique items: (25,)\n",
      "Category: Butchers, Number of unique items: (25,)\n",
      "Category: Beverages, Number of unique items: (25,)\n",
      "Category: Computers and electric accessories, Number of unique items: (25,)\n",
      "Category: Patisserie, Number of unique items: (25,)\n"
     ]
    }
   ],
   "source": [
    "for category in categories_of_products:\n",
    "    print(f\"Category: {category}, Number of unique items: {df[df['Category'] == category]['Item'].value_counts().shape}\")"
   ]
  },
  {
   "cell_type": "markdown",
   "id": "29891659",
   "metadata": {},
   "source": [
    "The number of items of each category is always the same "
   ]
  },
  {
   "cell_type": "code",
   "execution_count": 38,
   "id": "595f15ef",
   "metadata": {},
   "outputs": [
    {
     "name": "stdout",
     "output_type": "stream",
     "text": [
      "Category: Electric household essentials\n",
      "No price variation detected.\n",
      "\n",
      "Category: Furniture\n",
      "No price variation detected.\n",
      "\n",
      "Category: Food\n",
      "No price variation detected.\n",
      "\n",
      "Category: Milk Products\n",
      "No price variation detected.\n",
      "\n",
      "Category: Butchers\n",
      "No price variation detected.\n",
      "\n",
      "Category: Beverages\n",
      "No price variation detected.\n",
      "\n",
      "Category: Computers and electric accessories\n",
      "No price variation detected.\n",
      "\n",
      "Category: Patisserie\n",
      "No price variation detected.\n",
      "\n"
     ]
    }
   ],
   "source": [
    "for category in categories_of_products:\n",
    "    temp = df[df['Category'] == category]\n",
    "    price_variation = (\n",
    "        temp.groupby('Item')['Price Per Unit']\n",
    "        .nunique()\n",
    "        .reset_index(name='Unique Prices')\n",
    "    )\n",
    "    items_with_price_change = price_variation[price_variation['Unique Prices'] > 1]\n",
    "\n",
    "    print(f\"Category: {category}\")\n",
    "    if not items_with_price_change.empty:\n",
    "        print(\"Items with price variation:\")\n",
    "        print(items_with_price_change)\n",
    "    else:\n",
    "        print(\"No price variation detected.\\n\")\n"
   ]
  },
  {
   "cell_type": "markdown",
   "id": "4788ae17",
   "metadata": {},
   "source": [
    "As we can see, the price of the product is always the same, so if we have a missing value in either the category or Total Spent, we can fill it if we have the other two columns."
   ]
  },
  {
   "cell_type": "code",
   "execution_count": null,
   "id": "e8fb4c5c",
   "metadata": {},
   "outputs": [
    {
     "name": "stdout",
     "output_type": "stream",
     "text": [
      "price per unit is NaN: (609, 11)\n",
      "price per unit is NaN and : (0, 11)\n"
     ]
    }
   ],
   "source": [
    "# Check for NaN values in 'Price Per Unit'\n",
    "print(f'price per unit is NaN: {df[df[\"Price Per Unit\"].isna()].shape}')\n",
    "print(f'price per unit is NaN and Total Spent too : {df[(df[\"Price Per Unit\"].isna()) & (df[\"Total Spent\"].isna())].shape}')"
   ]
  },
  {
   "cell_type": "code",
   "execution_count": 41,
   "id": "4d06d0e4",
   "metadata": {},
   "outputs": [
    {
     "data": {
      "text/html": [
       "<div>\n",
       "<style scoped>\n",
       "    .dataframe tbody tr th:only-of-type {\n",
       "        vertical-align: middle;\n",
       "    }\n",
       "\n",
       "    .dataframe tbody tr th {\n",
       "        vertical-align: top;\n",
       "    }\n",
       "\n",
       "    .dataframe thead th {\n",
       "        text-align: right;\n",
       "    }\n",
       "</style>\n",
       "<table border=\"1\" class=\"dataframe\">\n",
       "  <thead>\n",
       "    <tr style=\"text-align: right;\">\n",
       "      <th></th>\n",
       "      <th>Transaction ID</th>\n",
       "      <th>Customer ID</th>\n",
       "      <th>Category</th>\n",
       "      <th>Item</th>\n",
       "      <th>Price Per Unit</th>\n",
       "      <th>Quantity</th>\n",
       "      <th>Total Spent</th>\n",
       "      <th>Payment Method</th>\n",
       "      <th>Location</th>\n",
       "      <th>Transaction Date</th>\n",
       "      <th>Discount Applied</th>\n",
       "    </tr>\n",
       "  </thead>\n",
       "  <tbody>\n",
       "    <tr>\n",
       "      <th>5</th>\n",
       "      <td>TXN_7482416</td>\n",
       "      <td>CUST_09</td>\n",
       "      <td>Patisserie</td>\n",
       "      <td>NaN</td>\n",
       "      <td>NaN</td>\n",
       "      <td>10.0</td>\n",
       "      <td>200.0</td>\n",
       "      <td>Credit Card</td>\n",
       "      <td>Online</td>\n",
       "      <td>2023-11-30</td>\n",
       "      <td>NaN</td>\n",
       "    </tr>\n",
       "    <tr>\n",
       "      <th>11</th>\n",
       "      <td>TXN_5422631</td>\n",
       "      <td>CUST_09</td>\n",
       "      <td>Milk Products</td>\n",
       "      <td>NaN</td>\n",
       "      <td>NaN</td>\n",
       "      <td>8.0</td>\n",
       "      <td>52.0</td>\n",
       "      <td>Digital Wallet</td>\n",
       "      <td>In-store</td>\n",
       "      <td>2025-01-12</td>\n",
       "      <td>True</td>\n",
       "    </tr>\n",
       "    <tr>\n",
       "      <th>17</th>\n",
       "      <td>TXN_9634894</td>\n",
       "      <td>CUST_15</td>\n",
       "      <td>Milk Products</td>\n",
       "      <td>NaN</td>\n",
       "      <td>NaN</td>\n",
       "      <td>10.0</td>\n",
       "      <td>275.0</td>\n",
       "      <td>Digital Wallet</td>\n",
       "      <td>Online</td>\n",
       "      <td>2022-04-17</td>\n",
       "      <td>NaN</td>\n",
       "    </tr>\n",
       "    <tr>\n",
       "      <th>21</th>\n",
       "      <td>TXN_8685338</td>\n",
       "      <td>CUST_15</td>\n",
       "      <td>Milk Products</td>\n",
       "      <td>NaN</td>\n",
       "      <td>NaN</td>\n",
       "      <td>3.0</td>\n",
       "      <td>105.0</td>\n",
       "      <td>Credit Card</td>\n",
       "      <td>In-store</td>\n",
       "      <td>2023-10-29</td>\n",
       "      <td>NaN</td>\n",
       "    </tr>\n",
       "    <tr>\n",
       "      <th>32</th>\n",
       "      <td>TXN_1543244</td>\n",
       "      <td>CUST_20</td>\n",
       "      <td>Food</td>\n",
       "      <td>NaN</td>\n",
       "      <td>NaN</td>\n",
       "      <td>8.0</td>\n",
       "      <td>196.0</td>\n",
       "      <td>Credit Card</td>\n",
       "      <td>Online</td>\n",
       "      <td>2024-10-25</td>\n",
       "      <td>True</td>\n",
       "    </tr>\n",
       "    <tr>\n",
       "      <th>...</th>\n",
       "      <td>...</td>\n",
       "      <td>...</td>\n",
       "      <td>...</td>\n",
       "      <td>...</td>\n",
       "      <td>...</td>\n",
       "      <td>...</td>\n",
       "      <td>...</td>\n",
       "      <td>...</td>\n",
       "      <td>...</td>\n",
       "      <td>...</td>\n",
       "      <td>...</td>\n",
       "    </tr>\n",
       "    <tr>\n",
       "      <th>12435</th>\n",
       "      <td>TXN_5147764</td>\n",
       "      <td>CUST_01</td>\n",
       "      <td>Furniture</td>\n",
       "      <td>NaN</td>\n",
       "      <td>NaN</td>\n",
       "      <td>5.0</td>\n",
       "      <td>32.5</td>\n",
       "      <td>Credit Card</td>\n",
       "      <td>Online</td>\n",
       "      <td>2023-09-06</td>\n",
       "      <td>True</td>\n",
       "    </tr>\n",
       "    <tr>\n",
       "      <th>12457</th>\n",
       "      <td>TXN_1352194</td>\n",
       "      <td>CUST_17</td>\n",
       "      <td>Electric household essentials</td>\n",
       "      <td>NaN</td>\n",
       "      <td>NaN</td>\n",
       "      <td>4.0</td>\n",
       "      <td>86.0</td>\n",
       "      <td>Credit Card</td>\n",
       "      <td>Online</td>\n",
       "      <td>2023-02-26</td>\n",
       "      <td>NaN</td>\n",
       "    </tr>\n",
       "    <tr>\n",
       "      <th>12477</th>\n",
       "      <td>TXN_5625684</td>\n",
       "      <td>CUST_22</td>\n",
       "      <td>Computers and electric accessories</td>\n",
       "      <td>NaN</td>\n",
       "      <td>NaN</td>\n",
       "      <td>4.0</td>\n",
       "      <td>80.0</td>\n",
       "      <td>Cash</td>\n",
       "      <td>In-store</td>\n",
       "      <td>2022-11-09</td>\n",
       "      <td>True</td>\n",
       "    </tr>\n",
       "    <tr>\n",
       "      <th>12491</th>\n",
       "      <td>TXN_7894525</td>\n",
       "      <td>CUST_23</td>\n",
       "      <td>Butchers</td>\n",
       "      <td>NaN</td>\n",
       "      <td>NaN</td>\n",
       "      <td>1.0</td>\n",
       "      <td>26.0</td>\n",
       "      <td>Credit Card</td>\n",
       "      <td>Online</td>\n",
       "      <td>2023-01-31</td>\n",
       "      <td>True</td>\n",
       "    </tr>\n",
       "    <tr>\n",
       "      <th>12511</th>\n",
       "      <td>TXN_5715500</td>\n",
       "      <td>CUST_17</td>\n",
       "      <td>Food</td>\n",
       "      <td>NaN</td>\n",
       "      <td>NaN</td>\n",
       "      <td>3.0</td>\n",
       "      <td>100.5</td>\n",
       "      <td>Digital Wallet</td>\n",
       "      <td>Online</td>\n",
       "      <td>2024-06-05</td>\n",
       "      <td>False</td>\n",
       "    </tr>\n",
       "  </tbody>\n",
       "</table>\n",
       "<p>609 rows × 11 columns</p>\n",
       "</div>"
      ],
      "text/plain": [
       "      Transaction ID Customer ID                            Category Item  \\\n",
       "5        TXN_7482416     CUST_09                          Patisserie  NaN   \n",
       "11       TXN_5422631     CUST_09                       Milk Products  NaN   \n",
       "17       TXN_9634894     CUST_15                       Milk Products  NaN   \n",
       "21       TXN_8685338     CUST_15                       Milk Products  NaN   \n",
       "32       TXN_1543244     CUST_20                                Food  NaN   \n",
       "...              ...         ...                                 ...  ...   \n",
       "12435    TXN_5147764     CUST_01                           Furniture  NaN   \n",
       "12457    TXN_1352194     CUST_17       Electric household essentials  NaN   \n",
       "12477    TXN_5625684     CUST_22  Computers and electric accessories  NaN   \n",
       "12491    TXN_7894525     CUST_23                            Butchers  NaN   \n",
       "12511    TXN_5715500     CUST_17                                Food  NaN   \n",
       "\n",
       "       Price Per Unit  Quantity  Total Spent  Payment Method  Location  \\\n",
       "5                 NaN      10.0        200.0     Credit Card    Online   \n",
       "11                NaN       8.0         52.0  Digital Wallet  In-store   \n",
       "17                NaN      10.0        275.0  Digital Wallet    Online   \n",
       "21                NaN       3.0        105.0     Credit Card  In-store   \n",
       "32                NaN       8.0        196.0     Credit Card    Online   \n",
       "...               ...       ...          ...             ...       ...   \n",
       "12435             NaN       5.0         32.5     Credit Card    Online   \n",
       "12457             NaN       4.0         86.0     Credit Card    Online   \n",
       "12477             NaN       4.0         80.0            Cash  In-store   \n",
       "12491             NaN       1.0         26.0     Credit Card    Online   \n",
       "12511             NaN       3.0        100.5  Digital Wallet    Online   \n",
       "\n",
       "      Transaction Date Discount Applied  \n",
       "5           2023-11-30              NaN  \n",
       "11          2025-01-12             True  \n",
       "17          2022-04-17              NaN  \n",
       "21          2023-10-29              NaN  \n",
       "32          2024-10-25             True  \n",
       "...                ...              ...  \n",
       "12435       2023-09-06             True  \n",
       "12457       2023-02-26              NaN  \n",
       "12477       2022-11-09             True  \n",
       "12491       2023-01-31             True  \n",
       "12511       2024-06-05            False  \n",
       "\n",
       "[609 rows x 11 columns]"
      ]
     },
     "execution_count": 41,
     "metadata": {},
     "output_type": "execute_result"
    }
   ],
   "source": [
    "df[df[\"Price Per Unit\"].isna()]"
   ]
  },
  {
   "cell_type": "markdown",
   "id": "82e20cb6",
   "metadata": {},
   "source": [
    "Now lets explore the Total spent column. If we dont have a value here we can try to fill it with the price per unit and the quantity. And if we dont have the value of the Quantity, we can fill it like the customer only bought one item."
   ]
  },
  {
   "cell_type": "code",
   "execution_count": 42,
   "id": "16fc9cce",
   "metadata": {},
   "outputs": [
    {
     "data": {
      "text/html": [
       "<div>\n",
       "<style scoped>\n",
       "    .dataframe tbody tr th:only-of-type {\n",
       "        vertical-align: middle;\n",
       "    }\n",
       "\n",
       "    .dataframe tbody tr th {\n",
       "        vertical-align: top;\n",
       "    }\n",
       "\n",
       "    .dataframe thead th {\n",
       "        text-align: right;\n",
       "    }\n",
       "</style>\n",
       "<table border=\"1\" class=\"dataframe\">\n",
       "  <thead>\n",
       "    <tr style=\"text-align: right;\">\n",
       "      <th></th>\n",
       "      <th>Transaction ID</th>\n",
       "      <th>Customer ID</th>\n",
       "      <th>Category</th>\n",
       "      <th>Item</th>\n",
       "      <th>Price Per Unit</th>\n",
       "      <th>Quantity</th>\n",
       "      <th>Total Spent</th>\n",
       "      <th>Payment Method</th>\n",
       "      <th>Location</th>\n",
       "      <th>Transaction Date</th>\n",
       "      <th>Discount Applied</th>\n",
       "    </tr>\n",
       "  </thead>\n",
       "  <tbody>\n",
       "    <tr>\n",
       "      <th>7</th>\n",
       "      <td>TXN_1372952</td>\n",
       "      <td>CUST_21</td>\n",
       "      <td>Furniture</td>\n",
       "      <td>NaN</td>\n",
       "      <td>33.5</td>\n",
       "      <td>NaN</td>\n",
       "      <td>NaN</td>\n",
       "      <td>Digital Wallet</td>\n",
       "      <td>In-store</td>\n",
       "      <td>2024-04-02</td>\n",
       "      <td>True</td>\n",
       "    </tr>\n",
       "    <tr>\n",
       "      <th>15</th>\n",
       "      <td>TXN_1809665</td>\n",
       "      <td>CUST_14</td>\n",
       "      <td>Beverages</td>\n",
       "      <td>NaN</td>\n",
       "      <td>24.5</td>\n",
       "      <td>NaN</td>\n",
       "      <td>NaN</td>\n",
       "      <td>Credit Card</td>\n",
       "      <td>In-store</td>\n",
       "      <td>2022-05-11</td>\n",
       "      <td>NaN</td>\n",
       "    </tr>\n",
       "    <tr>\n",
       "      <th>19</th>\n",
       "      <td>TXN_4206593</td>\n",
       "      <td>CUST_01</td>\n",
       "      <td>Furniture</td>\n",
       "      <td>NaN</td>\n",
       "      <td>35.0</td>\n",
       "      <td>NaN</td>\n",
       "      <td>NaN</td>\n",
       "      <td>Digital Wallet</td>\n",
       "      <td>Online</td>\n",
       "      <td>2025-01-13</td>\n",
       "      <td>False</td>\n",
       "    </tr>\n",
       "    <tr>\n",
       "      <th>25</th>\n",
       "      <td>TXN_3481599</td>\n",
       "      <td>CUST_05</td>\n",
       "      <td>Furniture</td>\n",
       "      <td>NaN</td>\n",
       "      <td>39.5</td>\n",
       "      <td>NaN</td>\n",
       "      <td>NaN</td>\n",
       "      <td>Cash</td>\n",
       "      <td>Online</td>\n",
       "      <td>2022-09-08</td>\n",
       "      <td>False</td>\n",
       "    </tr>\n",
       "    <tr>\n",
       "      <th>34</th>\n",
       "      <td>TXN_1621497</td>\n",
       "      <td>CUST_06</td>\n",
       "      <td>Patisserie</td>\n",
       "      <td>NaN</td>\n",
       "      <td>23.0</td>\n",
       "      <td>NaN</td>\n",
       "      <td>NaN</td>\n",
       "      <td>Cash</td>\n",
       "      <td>In-store</td>\n",
       "      <td>2023-02-18</td>\n",
       "      <td>NaN</td>\n",
       "    </tr>\n",
       "    <tr>\n",
       "      <th>...</th>\n",
       "      <td>...</td>\n",
       "      <td>...</td>\n",
       "      <td>...</td>\n",
       "      <td>...</td>\n",
       "      <td>...</td>\n",
       "      <td>...</td>\n",
       "      <td>...</td>\n",
       "      <td>...</td>\n",
       "      <td>...</td>\n",
       "      <td>...</td>\n",
       "      <td>...</td>\n",
       "    </tr>\n",
       "    <tr>\n",
       "      <th>12527</th>\n",
       "      <td>TXN_1069238</td>\n",
       "      <td>CUST_23</td>\n",
       "      <td>Food</td>\n",
       "      <td>NaN</td>\n",
       "      <td>5.0</td>\n",
       "      <td>NaN</td>\n",
       "      <td>NaN</td>\n",
       "      <td>Digital Wallet</td>\n",
       "      <td>In-store</td>\n",
       "      <td>2022-08-13</td>\n",
       "      <td>False</td>\n",
       "    </tr>\n",
       "    <tr>\n",
       "      <th>12552</th>\n",
       "      <td>TXN_4823896</td>\n",
       "      <td>CUST_05</td>\n",
       "      <td>Milk Products</td>\n",
       "      <td>NaN</td>\n",
       "      <td>8.0</td>\n",
       "      <td>NaN</td>\n",
       "      <td>NaN</td>\n",
       "      <td>Cash</td>\n",
       "      <td>In-store</td>\n",
       "      <td>2022-07-21</td>\n",
       "      <td>False</td>\n",
       "    </tr>\n",
       "    <tr>\n",
       "      <th>12556</th>\n",
       "      <td>TXN_4397672</td>\n",
       "      <td>CUST_04</td>\n",
       "      <td>Beverages</td>\n",
       "      <td>NaN</td>\n",
       "      <td>41.0</td>\n",
       "      <td>NaN</td>\n",
       "      <td>NaN</td>\n",
       "      <td>Credit Card</td>\n",
       "      <td>Online</td>\n",
       "      <td>2024-11-28</td>\n",
       "      <td>True</td>\n",
       "    </tr>\n",
       "    <tr>\n",
       "      <th>12562</th>\n",
       "      <td>TXN_7422454</td>\n",
       "      <td>CUST_07</td>\n",
       "      <td>Butchers</td>\n",
       "      <td>NaN</td>\n",
       "      <td>33.5</td>\n",
       "      <td>NaN</td>\n",
       "      <td>NaN</td>\n",
       "      <td>Cash</td>\n",
       "      <td>Online</td>\n",
       "      <td>2023-04-15</td>\n",
       "      <td>NaN</td>\n",
       "    </tr>\n",
       "    <tr>\n",
       "      <th>12564</th>\n",
       "      <td>TXN_2153066</td>\n",
       "      <td>CUST_17</td>\n",
       "      <td>Electric household essentials</td>\n",
       "      <td>NaN</td>\n",
       "      <td>29.0</td>\n",
       "      <td>NaN</td>\n",
       "      <td>NaN</td>\n",
       "      <td>Digital Wallet</td>\n",
       "      <td>In-store</td>\n",
       "      <td>2024-03-28</td>\n",
       "      <td>False</td>\n",
       "    </tr>\n",
       "  </tbody>\n",
       "</table>\n",
       "<p>604 rows × 11 columns</p>\n",
       "</div>"
      ],
      "text/plain": [
       "      Transaction ID Customer ID                       Category Item  \\\n",
       "7        TXN_1372952     CUST_21                      Furniture  NaN   \n",
       "15       TXN_1809665     CUST_14                      Beverages  NaN   \n",
       "19       TXN_4206593     CUST_01                      Furniture  NaN   \n",
       "25       TXN_3481599     CUST_05                      Furniture  NaN   \n",
       "34       TXN_1621497     CUST_06                     Patisserie  NaN   \n",
       "...              ...         ...                            ...  ...   \n",
       "12527    TXN_1069238     CUST_23                           Food  NaN   \n",
       "12552    TXN_4823896     CUST_05                  Milk Products  NaN   \n",
       "12556    TXN_4397672     CUST_04                      Beverages  NaN   \n",
       "12562    TXN_7422454     CUST_07                       Butchers  NaN   \n",
       "12564    TXN_2153066     CUST_17  Electric household essentials  NaN   \n",
       "\n",
       "       Price Per Unit  Quantity  Total Spent  Payment Method  Location  \\\n",
       "7                33.5       NaN          NaN  Digital Wallet  In-store   \n",
       "15               24.5       NaN          NaN     Credit Card  In-store   \n",
       "19               35.0       NaN          NaN  Digital Wallet    Online   \n",
       "25               39.5       NaN          NaN            Cash    Online   \n",
       "34               23.0       NaN          NaN            Cash  In-store   \n",
       "...               ...       ...          ...             ...       ...   \n",
       "12527             5.0       NaN          NaN  Digital Wallet  In-store   \n",
       "12552             8.0       NaN          NaN            Cash  In-store   \n",
       "12556            41.0       NaN          NaN     Credit Card    Online   \n",
       "12562            33.5       NaN          NaN            Cash    Online   \n",
       "12564            29.0       NaN          NaN  Digital Wallet  In-store   \n",
       "\n",
       "      Transaction Date Discount Applied  \n",
       "7           2024-04-02             True  \n",
       "15          2022-05-11              NaN  \n",
       "19          2025-01-13            False  \n",
       "25          2022-09-08            False  \n",
       "34          2023-02-18              NaN  \n",
       "...                ...              ...  \n",
       "12527       2022-08-13            False  \n",
       "12552       2022-07-21            False  \n",
       "12556       2024-11-28             True  \n",
       "12562       2023-04-15              NaN  \n",
       "12564       2024-03-28            False  \n",
       "\n",
       "[604 rows x 11 columns]"
      ]
     },
     "execution_count": 42,
     "metadata": {},
     "output_type": "execute_result"
    }
   ],
   "source": [
    "df[df[\"Total Spent\"].isna()]"
   ]
  },
  {
   "cell_type": "code",
   "execution_count": 43,
   "id": "f3a37ce3",
   "metadata": {},
   "outputs": [
    {
     "data": {
      "text/plain": [
       "Payment Method\n",
       "Cash              4310\n",
       "Digital Wallet    4144\n",
       "Credit Card       4121\n",
       "Name: count, dtype: int64"
      ]
     },
     "execution_count": 43,
     "metadata": {},
     "output_type": "execute_result"
    }
   ],
   "source": [
    "df['Payment Method'].value_counts()"
   ]
  },
  {
   "cell_type": "code",
   "execution_count": 44,
   "id": "77969167",
   "metadata": {},
   "outputs": [
    {
     "data": {
      "text/plain": [
       "Location\n",
       "Online      6354\n",
       "In-store    6221\n",
       "Name: count, dtype: int64"
      ]
     },
     "execution_count": 44,
     "metadata": {},
     "output_type": "execute_result"
    }
   ],
   "source": [
    "df['Location'].value_counts()"
   ]
  },
  {
   "cell_type": "code",
   "execution_count": 49,
   "id": "a76b5738",
   "metadata": {},
   "outputs": [
    {
     "name": "stdout",
     "output_type": "stream",
     "text": [
      "<class 'pandas.core.frame.DataFrame'>\n",
      "RangeIndex: 12575 entries, 0 to 12574\n",
      "Data columns (total 11 columns):\n",
      " #   Column            Non-Null Count  Dtype  \n",
      "---  ------            --------------  -----  \n",
      " 0   Transaction ID    12575 non-null  object \n",
      " 1   Customer ID       12575 non-null  object \n",
      " 2   Category          12575 non-null  object \n",
      " 3   Item              11362 non-null  object \n",
      " 4   Price Per Unit    11966 non-null  float64\n",
      " 5   Quantity          11971 non-null  float64\n",
      " 6   Total Spent       11971 non-null  float64\n",
      " 7   Payment Method    12575 non-null  object \n",
      " 8   Location          12575 non-null  object \n",
      " 9   Transaction Date  12575 non-null  object \n",
      " 10  Discount Applied  8376 non-null   object \n",
      "dtypes: float64(3), object(8)\n",
      "memory usage: 1.1+ MB\n"
     ]
    }
   ],
   "source": [
    "df.info()"
   ]
  },
  {
   "cell_type": "code",
   "execution_count": null,
   "id": "311c27d8",
   "metadata": {},
   "outputs": [],
   "source": []
  },
  {
   "cell_type": "code",
   "execution_count": null,
   "id": "05846331",
   "metadata": {},
   "outputs": [],
   "source": []
  },
  {
   "cell_type": "code",
   "execution_count": null,
   "id": "57532589",
   "metadata": {},
   "outputs": [],
   "source": []
  },
  {
   "cell_type": "markdown",
   "id": "3869b058",
   "metadata": {},
   "source": []
  }
 ],
 "metadata": {
  "kernelspec": {
   "display_name": "venv",
   "language": "python",
   "name": "python3"
  },
  "language_info": {
   "codemirror_mode": {
    "name": "ipython",
    "version": 3
   },
   "file_extension": ".py",
   "mimetype": "text/x-python",
   "name": "python",
   "nbconvert_exporter": "python",
   "pygments_lexer": "ipython3",
   "version": "3.10.11"
  }
 },
 "nbformat": 4,
 "nbformat_minor": 5
}
